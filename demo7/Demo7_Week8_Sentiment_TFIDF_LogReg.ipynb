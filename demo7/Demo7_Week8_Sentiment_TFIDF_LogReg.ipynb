{
 "cells": [
  {
   "cell_type": "markdown",
   "metadata": {},
   "source": [
    "# Demo 7 (Week 8): Sentiment Analysis (TF‑IDF + Logistic Regression)\n",
    "_Generated: 2025-10-01 14:10_"
   ]
  },
  {
   "cell_type": "markdown",
   "metadata": {},
   "source": [
    "## 1) Problem Statement\n",
    "We tackle a **binary sentiment analysis** task: classify text reviews as **positive** or **negative**.\n",
    "\n",
    "**Inputs:** Raw text reviews.  \n",
    "**Output:** A binary label (`1 = positive`, `0 = negative`).\n",
    "\n",
    "We'll use a classic and very strong baseline:\n",
    "- **Text vectorization:** TF‑IDF (word-level)  \n",
    "- **Classifier:** Logistic Regression\n",
    "\n",
    "Why this combo? It's fast, robust, and often competitive with heavier models for bag‑of‑words style tasks."
   ]
  },
  {
   "cell_type": "markdown",
   "metadata": {},
   "source": [
    "## 2) Environment & Imports"
   ]
  },
  {
   "cell_type": "code",
   "execution_count": 1,
   "metadata": {},
   "outputs": [
    {
     "name": "stdout",
     "output_type": "stream",
     "text": [
      "Python: 3.10.11\n",
      "scikit-learn: 1.3.0\n"
     ]
    }
   ],
   "source": [
    "import sys, os, random, math\n",
    "import numpy as np\n",
    "import matplotlib.pyplot as plt\n",
    "\n",
    "# Core ML\n",
    "from sklearn.model_selection import train_test_split\n",
    "from sklearn.feature_extraction.text import TfidfVectorizer\n",
    "from sklearn.linear_model import LogisticRegression\n",
    "from sklearn.pipeline import Pipeline\n",
    "from sklearn.metrics import (\n",
    "    accuracy_score, classification_report, confusion_matrix, roc_auc_score, RocCurveDisplay\n",
    ")\n",
    "from sklearn.utils import shuffle\n",
    "\n",
    "# Persistence\n",
    "import joblib\n",
    "\n",
    "print(\"Python:\", sys.version.split()[0])\n",
    "try:\n",
    "    import sklearn\n",
    "    print(\"scikit-learn:\", sklearn.__version__)\n",
    "except Exception as e:\n",
    "    print(\"scikit-learn not found:\", e)\n",
    "\n",
    "# Reproducibility\n",
    "SEED = 42\n",
    "random.seed(SEED)\n",
    "np.random.seed(SEED)"
   ]
  },
  {
   "cell_type": "markdown",
   "metadata": {},
   "source": [
    "## 3) Load Data (with fallbacks)\n",
    "We try in order:\n",
    "1. **NLTK movie_reviews** corpus (requires `nltk` and an internet download once).\n",
    "2. **Keras IMDB** (we reconstruct text from indices; requires `tensorflow` and a one-time download).\n",
    "3. **Built-in tiny toy dataset** (always works offline; enough to demonstrate the pipeline)."
   ]
  },
  {
   "cell_type": "code",
   "execution_count": 2,
   "metadata": {},
   "outputs": [
    {
     "name": "stdout",
     "output_type": "stream",
     "text": [
      "[Info] NLTK movie_reviews unavailable: No module named 'nltk'\n",
      "WARNING:tensorflow:From C:\\Users\\Jeen\\AppData\\Local\\Packages\\PythonSoftwareFoundation.Python.3.10_qbz5n2kfra8p0\\LocalCache\\local-packages\\Python310\\site-packages\\keras\\src\\losses.py:2976: The name tf.losses.sparse_softmax_cross_entropy is deprecated. Please use tf.compat.v1.losses.sparse_softmax_cross_entropy instead.\n",
      "\n",
      "Downloading data from https://storage.googleapis.com/tensorflow/tf-keras-datasets/imdb.npz\n",
      "17464789/17464789 [==============================] - 6s 0us/step\n",
      "Downloading data from https://storage.googleapis.com/tensorflow/tf-keras-datasets/imdb_word_index.json\n",
      "1641221/1641221 [==============================] - 1s 1us/step\n",
      "Loaded Keras IMDB (reconstructed): 50000 docs.\n",
      "Class balance: {0: 25000, 1: 25000}\n"
     ]
    }
   ],
   "source": [
    "def load_data_with_fallbacks():\n",
    "    texts, labels = None, None\n",
    "\n",
    "    # ---- Option A: NLTK movie_reviews ----\n",
    "    try:\n",
    "        import nltk\n",
    "        nltk.download('movie_reviews', quiet=True)\n",
    "        from nltk.corpus import movie_reviews\n",
    "        fileids = movie_reviews.fileids()\n",
    "        texts = [\" \".join(movie_reviews.words(fid)) for fid in fileids]\n",
    "        labels = [1 if movie_reviews.categories(fid)[0] == \"pos\" else 0 for fid in fileids]\n",
    "        print(f\"Loaded NLTK movie_reviews: {len(texts)} docs.\")\n",
    "        return texts, np.array(labels, dtype=int)\n",
    "    except Exception as e:\n",
    "        print(\"[Info] NLTK movie_reviews unavailable:\", e)\n",
    "\n",
    "    # ---- Option B: Keras IMDB ----\n",
    "    try:\n",
    "        import tensorflow as tf\n",
    "        from tensorflow.keras.datasets import imdb\n",
    "\n",
    "        # Load integer-encoded sequences\n",
    "        (x_train, y_train), (x_test, y_test) = imdb.load_data(num_words=20000)\n",
    "        word_index = imdb.get_word_index()\n",
    "        inv_index = {v+3: k for k, v in word_index.items()}  # offset by 3\n",
    "        inv_index[0], inv_index[1], inv_index[2], inv_index[3] = \"<PAD>\", \"<START>\", \"<UNK>\", \"<UNUSED>\"\n",
    "\n",
    "        def seq_to_text(seq):\n",
    "            return \" \".join(inv_index.get(i, \"<UNK>\") for i in seq)\n",
    "\n",
    "        texts = [seq_to_text(s) for s in np.concatenate([x_train, x_test])]\n",
    "        labels = np.concatenate([y_train, y_test])\n",
    "        print(f\"Loaded Keras IMDB (reconstructed): {len(texts)} docs.\")\n",
    "        return texts, labels.astype(int)\n",
    "    except Exception as e:\n",
    "        print(\"[Info] Keras IMDB unavailable:\", e)\n",
    "\n",
    "    # ---- Option C: Tiny built-in toy dataset ----\n",
    "    toy_pos = [\n",
    "        \"I loved this movie, it was fantastic and heartwarming!\",\n",
    "        \"Absolutely brilliant, a masterpiece I would watch again.\",\n",
    "        \"Great acting and a compelling story, highly recommended.\",\n",
    "        \"This was enjoyable and fun, I smiled the whole time.\",\n",
    "        \"Wonderful film with excellent pacing and characters.\",\n",
    "        \"Incredible! Exceeded my expectations in every way.\",\n",
    "        \"I was moved to tears by the beautiful ending.\",\n",
    "        \"Charming and delightful, the audience applauded.\",\n",
    "        \"A touching, uplifting story with memorable scenes.\",\n",
    "        \"Simply great! The direction and music were perfect.\"\n",
    "    ]\n",
    "    toy_neg = [\n",
    "        \"I hated this movie, it was boring and predictable.\",\n",
    "        \"Terrible acting and a weak plot, not worth my time.\",\n",
    "        \"Awful experience, I regret watching this film.\",\n",
    "        \"Disappointing and dull, I nearly fell asleep.\",\n",
    "        \"Poorly written and badly directed, a complete mess.\",\n",
    "        \"This was painful to watch; I left halfway through.\",\n",
    "        \"Uninspired, cliche, and far too long for the content.\",\n",
    "        \"A waste of time; I wouldn't recommend it to anyone.\",\n",
    "        \"Clumsy editing and wooden performances throughout.\",\n",
    "        \"One of the worst films I've seen this year.\"\n",
    "    ]\n",
    "    texts = toy_pos + toy_neg\n",
    "    labels = np.array([1]*len(toy_pos) + [0]*len(toy_neg), dtype=int)\n",
    "    texts, labels = shuffle(texts, labels, random_state=SEED)\n",
    "    print(f\"Using tiny built-in dataset: {len(texts)} docs (for demo only).\")\n",
    "    return texts, labels\n",
    "\n",
    "texts, labels = load_data_with_fallbacks()\n",
    "print(\"Class balance:\", {c:int((labels==c).sum()) for c in np.unique(labels)})"
   ]
  },
  {
   "cell_type": "markdown",
   "metadata": {},
   "source": [
    "## 4) Train/Validation/Test Split\n",
    "We hold out a test set for final evaluation and a small validation set for quick checks."
   ]
  },
  {
   "cell_type": "code",
   "execution_count": 3,
   "metadata": {},
   "outputs": [
    {
     "name": "stdout",
     "output_type": "stream",
     "text": [
      "Train: 40000, Val: 5000, Test: 5000\n"
     ]
    }
   ],
   "source": [
    "X_train, X_temp, y_train, y_temp = train_test_split(\n",
    "    texts, labels, test_size=0.2, random_state=SEED, stratify=labels\n",
    ")\n",
    "X_val, X_test, y_val, y_test = train_test_split(\n",
    "    X_temp, y_temp, test_size=0.5, random_state=SEED, stratify=y_temp\n",
    ")\n",
    "\n",
    "print(f\"Train: {len(X_train)}, Val: {len(X_val)}, Test: {len(X_test)}\")"
   ]
  },
  {
   "cell_type": "markdown",
   "metadata": {},
   "source": [
    "## 5) TF‑IDF + Logistic Regression Pipeline\n",
    "We limit vocabulary to a reasonable size, remove English stopwords, and use unigrams + bigrams."
   ]
  },
  {
   "cell_type": "code",
   "execution_count": 4,
   "metadata": {},
   "outputs": [
    {
     "name": "stdout",
     "output_type": "stream",
     "text": [
      "Validation accuracy: 0.895\n"
     ]
    }
   ],
   "source": [
    "pipe = Pipeline([\n",
    "    (\"tfidf\", TfidfVectorizer(\n",
    "        lowercase=True,\n",
    "        stop_words=\"english\",\n",
    "        ngram_range=(1,2),\n",
    "        max_features=30000,\n",
    "        dtype=np.float32\n",
    "    )),\n",
    "    (\"logreg\", LogisticRegression(\n",
    "        max_iter=1000,\n",
    "        C=2.0,\n",
    "        class_weight=\"balanced\",\n",
    "        random_state=SEED,\n",
    "        n_jobs=-1 if hasattr(LogisticRegression, \"n_jobs\") else None\n",
    "    ))\n",
    "])\n",
    "\n",
    "pipe.fit(X_train, y_train)\n",
    "val_pred = pipe.predict(X_val)\n",
    "val_acc = accuracy_score(y_val, val_pred)\n",
    "print(\"Validation accuracy:\", round(val_acc, 4))"
   ]
  },
  {
   "cell_type": "markdown",
   "metadata": {},
   "source": [
    "## 6) Final Evaluation on Test Set\n",
    "We report accuracy, precision/recall/F1, confusion matrix, and ROC‑AUC."
   ]
  },
  {
   "cell_type": "code",
   "execution_count": 5,
   "metadata": {},
   "outputs": [
    {
     "name": "stdout",
     "output_type": "stream",
     "text": [
      "Test accuracy: 0.8986\n",
      "\n",
      "Classification report:\n",
      "               precision    recall  f1-score   support\n",
      "\n",
      "           0     0.9052    0.8904    0.8978      2500\n",
      "           1     0.8922    0.9068    0.8994      2500\n",
      "\n",
      "    accuracy                         0.8986      5000\n",
      "   macro avg     0.8987    0.8986    0.8986      5000\n",
      "weighted avg     0.8987    0.8986    0.8986      5000\n",
      "\n",
      "Confusion matrix:\n",
      " [[2226  274]\n",
      " [ 233 2267]]\n",
      "ROC-AUC: 0.962\n"
     ]
    },
    {
     "data": {
      "image/png": "[encoded data removed]",
      "text/plain": [
       "<Figure size 640x480 with 1 Axes>"
      ]
     },
     "metadata": {},
     "output_type": "display_data"
    }
   ],
   "source": [
    "test_pred = pipe.predict(X_test)\n",
    "test_proba = pipe.predict_proba(X_test)[:,1] if hasattr(pipe, \"predict_proba\") else None\n",
    "\n",
    "print(\"Test accuracy:\", round(accuracy_score(y_test, test_pred), 4))\n",
    "print(\"\\nClassification report:\\n\", classification_report(y_test, test_pred, digits=4))\n",
    "\n",
    "cm = confusion_matrix(y_test, test_pred)\n",
    "print(\"Confusion matrix:\\n\", cm)\n",
    "\n",
    "if test_proba is not None:\n",
    "    try:\n",
    "        auc = roc_auc_score(y_test, test_proba)\n",
    "        print(\"ROC-AUC:\", round(auc, 4))\n",
    "        RocCurveDisplay.from_predictions(y_test, test_proba)\n",
    "        plt.title(\"ROC Curve (LogReg + TF-IDF)\")\n",
    "        plt.show()\n",
    "    except Exception as e:\n",
    "        print(\"ROC-AUC/plot error:\", e)"
   ]
  },
  {
   "cell_type": "markdown",
   "metadata": {},
   "source": [
    "## 7) Save the Model\n",
    "We persist the entire pipeline with `joblib` so it includes both the TF‑IDF vectorizer and the classifier."
   ]
  },
  {
   "cell_type": "code",
   "execution_count": 6,
   "metadata": {},
   "outputs": [
    {
     "name": "stdout",
     "output_type": "stream",
     "text": [
      "Saved pipeline to: demo7_sentiment_logreg_tfidf.joblib\n"
     ]
    }
   ],
   "source": [
    "MODEL_PATH = \"demo7_sentiment_logreg_tfidf.joblib\"\n",
    "joblib.dump(pipe, MODEL_PATH)\n",
    "print(\"Saved pipeline to:\", MODEL_PATH)"
   ]
  },
  {
   "cell_type": "markdown",
   "metadata": {},
   "source": [
    "## 8) Inference: Try Your Own Sentences\n",
    "Edit the list below to test your own text. The pipeline handles preprocessing internally."
   ]
  },
  {
   "cell_type": "code",
   "execution_count": 7,
   "metadata": {},
   "outputs": [
    {
     "name": "stdout",
     "output_type": "stream",
     "text": [
      "- 'I absolutely loved this! A wonderful film with great perform...' -> 1 (p_pos=0.999)\n",
      "- 'This was terrible. I am never watching it again.' -> 0 (p_pos=0.001)\n",
      "- 'Mediocre at best; some parts were good but overall disappoin...' -> 0 (p_pos=0.174)\n"
     ]
    }
   ],
   "source": [
    "examples = [\n",
    "    \"I absolutely loved this! A wonderful film with great performances.\",\n",
    "    \"This was terrible. I am never watching it again.\",\n",
    "    \"Mediocre at best; some parts were good but overall disappointing.\"\n",
    "]\n",
    "\n",
    "loaded = joblib.load(\"demo7_sentiment_logreg_tfidf.joblib\")\n",
    "preds = loaded.predict(examples)\n",
    "probs = loaded.predict_proba(examples)[:,1] if hasattr(loaded, \"predict_proba\") else None\n",
    "\n",
    "for i, txt in enumerate(examples):\n",
    "    label = int(preds[i])\n",
    "    conf = f\" (p_pos={probs[i]:.3f})\" if probs is not None else \"\"\n",
    "    print(f\"- '{txt[:60]}{'...' if len(txt)>60 else ''}' -> {label}{conf}\")"
   ]
  },
  {
   "cell_type": "markdown",
   "metadata": {},
   "source": [
    "## 9) (Optional) Quick Hyperparameter Sweep\n",
    "Uncomment to run a tiny grid search. Keep it small for quick runs."
   ]
  },
  {
   "cell_type": "code",
   "execution_count": 9,
   "metadata": {},
   "outputs": [
    {
     "name": "stdout",
     "output_type": "stream",
     "text": [
      "Best params: {'logreg__C': 4.0, 'tfidf__ngram_range': (1, 2)}\n",
      "Best CV score (f1): 0.8988\n",
      "Val score: 0.896\n"
     ]
    }
   ],
   "source": [
    "from sklearn.model_selection import GridSearchCV\n",
    "tiny_grid = {\n",
    "    \"tfidf__ngram_range\": [(1,1), (1,2)],\n",
    "    \"logreg__C\": [0.5, 1.0, 2.0, 4.0],\n",
    "}\n",
    "gs = GridSearchCV(pipe, tiny_grid, cv=3, n_jobs=-1, scoring=\"f1\")\n",
    "gs.fit(X_train, y_train)\n",
    "print(\"Best params:\", gs.best_params_)\n",
    "print(\"Best CV score (f1):\", round(gs.best_score_, 4))\n",
    "print(\"Val score:\", round(accuracy_score(y_val, gs.predict(X_val)), 4))"
   ]
  }
 ],
 "metadata": {
  "kernelspec": {
   "display_name": "Python 3",
   "language": "python",
   "name": "python3"
  },
  "language_info": {
   "codemirror_mode": {
    "name": "ipython",
    "version": 3
   },
   "file_extension": ".py",
   "mimetype": "text/x-python",
   "name": "python",
   "nbconvert_exporter": "python",
   "pygments_lexer": "ipython3",
   "version": "3.10.11"
  }
 },
 "nbformat": 4,
 "nbformat_minor": 5
}
